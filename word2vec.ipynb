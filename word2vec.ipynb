{
 "cells": [
  {
   "cell_type": "code",
   "execution_count": 7,
   "id": "e54aabbe",
   "metadata": {},
   "outputs": [],
   "source": [
    "import numpy as np\n",
    "import pandas as pd"
   ]
  },
  {
   "cell_type": "code",
   "execution_count": 8,
   "id": "1d591cc5",
   "metadata": {},
   "outputs": [],
   "source": [
    "temp_df = pd.read_csv('/home/manav-bassi/python_envs/data/IMDB Dataset.csv')"
   ]
  },
  {
   "cell_type": "code",
   "execution_count": 9,
   "id": "2305ad97",
   "metadata": {},
   "outputs": [],
   "source": [
    "df = temp_df.iloc[:10000]"
   ]
  },
  {
   "cell_type": "code",
   "execution_count": 10,
   "id": "f16b8362",
   "metadata": {},
   "outputs": [
    {
     "data": {
      "text/html": [
       "<div>\n",
       "<style scoped>\n",
       "    .dataframe tbody tr th:only-of-type {\n",
       "        vertical-align: middle;\n",
       "    }\n",
       "\n",
       "    .dataframe tbody tr th {\n",
       "        vertical-align: top;\n",
       "    }\n",
       "\n",
       "    .dataframe thead th {\n",
       "        text-align: right;\n",
       "    }\n",
       "</style>\n",
       "<table border=\"1\" class=\"dataframe\">\n",
       "  <thead>\n",
       "    <tr style=\"text-align: right;\">\n",
       "      <th></th>\n",
       "      <th>review</th>\n",
       "      <th>sentiment</th>\n",
       "    </tr>\n",
       "  </thead>\n",
       "  <tbody>\n",
       "    <tr>\n",
       "      <th>0</th>\n",
       "      <td>One of the other reviewers has mentioned that ...</td>\n",
       "      <td>positive</td>\n",
       "    </tr>\n",
       "    <tr>\n",
       "      <th>1</th>\n",
       "      <td>A wonderful little production. &lt;br /&gt;&lt;br /&gt;The...</td>\n",
       "      <td>positive</td>\n",
       "    </tr>\n",
       "    <tr>\n",
       "      <th>2</th>\n",
       "      <td>I thought this was a wonderful way to spend ti...</td>\n",
       "      <td>positive</td>\n",
       "    </tr>\n",
       "    <tr>\n",
       "      <th>3</th>\n",
       "      <td>Basically there's a family where a little boy ...</td>\n",
       "      <td>negative</td>\n",
       "    </tr>\n",
       "    <tr>\n",
       "      <th>4</th>\n",
       "      <td>Petter Mattei's \"Love in the Time of Money\" is...</td>\n",
       "      <td>positive</td>\n",
       "    </tr>\n",
       "  </tbody>\n",
       "</table>\n",
       "</div>"
      ],
      "text/plain": [
       "                                              review sentiment\n",
       "0  One of the other reviewers has mentioned that ...  positive\n",
       "1  A wonderful little production. <br /><br />The...  positive\n",
       "2  I thought this was a wonderful way to spend ti...  positive\n",
       "3  Basically there's a family where a little boy ...  negative\n",
       "4  Petter Mattei's \"Love in the Time of Money\" is...  positive"
      ]
     },
     "execution_count": 10,
     "metadata": {},
     "output_type": "execute_result"
    }
   ],
   "source": [
    "df.head()"
   ]
  },
  {
   "cell_type": "code",
   "execution_count": 11,
   "id": "9653860c",
   "metadata": {},
   "outputs": [
    {
     "name": "stderr",
     "output_type": "stream",
     "text": [
      "/tmp/ipykernel_25310/3424306917.py:1: SettingWithCopyWarning: \n",
      "A value is trying to be set on a copy of a slice from a DataFrame\n",
      "\n",
      "See the caveats in the documentation: https://pandas.pydata.org/pandas-docs/stable/user_guide/indexing.html#returning-a-view-versus-a-copy\n",
      "  df.drop_duplicates(inplace = True)\n"
     ]
    }
   ],
   "source": [
    "df.drop_duplicates(inplace = True)"
   ]
  },
  {
   "cell_type": "code",
   "execution_count": 12,
   "id": "a1973434",
   "metadata": {},
   "outputs": [],
   "source": [
    "import re \n",
    "def remove_tags(text):\n",
    "    clean_text = re.sub(re.compile('<.*?>'), '',text)\n",
    "    return clean_text"
   ]
  },
  {
   "cell_type": "code",
   "execution_count": 13,
   "id": "e5c17900",
   "metadata": {},
   "outputs": [
    {
     "name": "stderr",
     "output_type": "stream",
     "text": [
      "/tmp/ipykernel_25310/2336150696.py:1: SettingWithCopyWarning: \n",
      "A value is trying to be set on a copy of a slice from a DataFrame.\n",
      "Try using .loc[row_indexer,col_indexer] = value instead\n",
      "\n",
      "See the caveats in the documentation: https://pandas.pydata.org/pandas-docs/stable/user_guide/indexing.html#returning-a-view-versus-a-copy\n",
      "  df['review'] = df['review'].apply(remove_tags)\n"
     ]
    }
   ],
   "source": [
    "df['review'] = df['review'].apply(remove_tags)"
   ]
  },
  {
   "cell_type": "code",
   "execution_count": 14,
   "id": "f27c9554",
   "metadata": {},
   "outputs": [
    {
     "name": "stderr",
     "output_type": "stream",
     "text": [
      "/tmp/ipykernel_25310/3523187300.py:1: SettingWithCopyWarning: \n",
      "A value is trying to be set on a copy of a slice from a DataFrame.\n",
      "Try using .loc[row_indexer,col_indexer] = value instead\n",
      "\n",
      "See the caveats in the documentation: https://pandas.pydata.org/pandas-docs/stable/user_guide/indexing.html#returning-a-view-versus-a-copy\n",
      "  df['review'] = df['review'].apply(lambda x:x.lower())\n"
     ]
    }
   ],
   "source": [
    "df['review'] = df['review'].apply(lambda x:x.lower())\n"
   ]
  },
  {
   "cell_type": "code",
   "execution_count": 15,
   "id": "711d35c8",
   "metadata": {},
   "outputs": [
    {
     "name": "stderr",
     "output_type": "stream",
     "text": [
      "/tmp/ipykernel_25310/1193008340.py:5: SettingWithCopyWarning: \n",
      "A value is trying to be set on a copy of a slice from a DataFrame.\n",
      "Try using .loc[row_indexer,col_indexer] = value instead\n",
      "\n",
      "See the caveats in the documentation: https://pandas.pydata.org/pandas-docs/stable/user_guide/indexing.html#returning-a-view-versus-a-copy\n",
      "  df['review'] = df['review'].apply(lambda x: [item for item in x.split() if item not in sw_list]).apply(lambda x:\" \".join(x))\n"
     ]
    }
   ],
   "source": [
    "from nltk.corpus import stopwords\n",
    "\n",
    "sw_list = stopwords.words('english')\n",
    "\n",
    "df['review'] = df['review'].apply(lambda x: [item for item in x.split() if item not in sw_list]).apply(lambda x:\" \".join(x))\n"
   ]
  },
  {
   "cell_type": "code",
   "execution_count": 16,
   "id": "2c54d143",
   "metadata": {},
   "outputs": [],
   "source": [
    "import gensim"
   ]
  },
  {
   "cell_type": "code",
   "execution_count": 17,
   "id": "dffd8070",
   "metadata": {},
   "outputs": [],
   "source": [
    "\n",
    "from nltk import sent_tokenize\n",
    "from gensim.utils import simple_preprocess"
   ]
  },
  {
   "cell_type": "code",
   "execution_count": 18,
   "id": "08474f4f",
   "metadata": {},
   "outputs": [],
   "source": [
    "story = []\n",
    "for doc in df['review']:\n",
    "    raw_sent = sent_tokenize(doc)\n",
    "    for sent in raw_sent:\n",
    "        story.append(simple_preprocess(sent))"
   ]
  },
  {
   "cell_type": "code",
   "execution_count": 20,
   "id": "56bb31b5",
   "metadata": {},
   "outputs": [],
   "source": [
    "model  =  gensim.models.Word2Vec(\n",
    "    window=10,\n",
    "    min_count=2\n",
    ")"
   ]
  },
  {
   "cell_type": "code",
   "execution_count": 21,
   "id": "4fd6e24b",
   "metadata": {},
   "outputs": [],
   "source": [
    "model.build_vocab(story)"
   ]
  },
  {
   "cell_type": "code",
   "execution_count": 22,
   "id": "cc110ecd",
   "metadata": {},
   "outputs": [
    {
     "data": {
      "text/plain": [
       "(5849803, 6186875)"
      ]
     },
     "execution_count": 22,
     "metadata": {},
     "output_type": "execute_result"
    }
   ],
   "source": [
    "model.train(story,total_examples=model.corpus_count,epochs=model.epochs)"
   ]
  },
  {
   "cell_type": "code",
   "execution_count": 23,
   "id": "f42e1b41",
   "metadata": {},
   "outputs": [
    {
     "data": {
      "text/plain": [
       "31845"
      ]
     },
     "execution_count": 23,
     "metadata": {},
     "output_type": "execute_result"
    }
   ],
   "source": [
    "len(model.wv.index_to_key)"
   ]
  },
  {
   "cell_type": "code",
   "execution_count": 24,
   "id": "4b2ef605",
   "metadata": {},
   "outputs": [],
   "source": [
    "def docu_vect(doc):\n",
    "    doc = [word for word in doc.split() if word in model.wv.index_to_key]\n",
    "    return np.mean(model.wv[doc],axis = 0)"
   ]
  },
  {
   "cell_type": "code",
   "execution_count": 25,
   "id": "94e67ca8",
   "metadata": {},
   "outputs": [
    {
     "data": {
      "text/plain": [
       "array([ 8.55878461e-03,  3.29965383e-01,  2.36380041e-01,  2.65297908e-02,\n",
       "       -2.42161397e-02, -5.19931316e-01,  1.54560909e-01,  8.47177505e-01,\n",
       "       -1.77634329e-01, -1.94160506e-01, -2.31712267e-01, -5.51622450e-01,\n",
       "       -4.01041061e-02,  2.94958830e-01,  2.00096101e-01, -2.62357533e-01,\n",
       "        1.43729225e-01, -5.64755976e-01, -8.65969434e-02, -6.58496141e-01,\n",
       "        1.24134673e-02,  1.17779568e-01,  2.07935557e-01, -2.15857640e-01,\n",
       "       -1.76015779e-01, -1.23499222e-01, -1.25266090e-01, -2.24123210e-01,\n",
       "       -3.62915248e-01, -3.75582539e-02,  4.05332297e-01,  8.01547337e-03,\n",
       "       -8.73840898e-02, -1.75893277e-01, -4.28652495e-01,  3.77929032e-01,\n",
       "        4.64147069e-02, -3.03809077e-01, -1.29490361e-01, -7.36969709e-01,\n",
       "        1.45108566e-01, -2.24514738e-01, -1.78421199e-01,  1.64173450e-02,\n",
       "        4.31663066e-01, -1.44257203e-01, -4.81858581e-01, -2.27978036e-01,\n",
       "        8.16337913e-02,  3.29999477e-01,  1.44496873e-01, -3.15818191e-01,\n",
       "       -3.56140465e-01, -1.75174981e-01, -3.94358009e-01,  7.71805495e-02,\n",
       "        3.85560572e-01,  1.93814322e-01, -2.91418463e-01,  6.73718899e-02,\n",
       "       -5.40329069e-02,  1.34535283e-01, -2.21807897e-01, -1.36909513e-02,\n",
       "       -3.79454702e-01,  4.23178852e-01, -1.61287971e-02,  7.89603963e-02,\n",
       "       -5.62103748e-01,  3.27414840e-01, -1.21409170e-01,  2.17015386e-01,\n",
       "        3.84825885e-01, -2.99685895e-02,  4.51830834e-01,  1.81513298e-02,\n",
       "        1.69099063e-01, -2.29219243e-01, -3.39045256e-01,  1.14056714e-01,\n",
       "       -2.69719392e-01, -1.23382863e-02, -4.79155481e-01,  5.06524265e-01,\n",
       "       -7.54571036e-02, -1.95486844e-01,  8.78414959e-02,  2.40503624e-01,\n",
       "        3.22861701e-01,  1.68759674e-01,  3.11569452e-01,  1.25043362e-01,\n",
       "       -1.12437354e-02,  1.11799404e-01,  5.89988470e-01,  1.04781918e-01,\n",
       "        3.24361145e-01, -3.87546450e-01,  2.46663883e-01, -1.79710099e-04],\n",
       "      dtype=float32)"
      ]
     },
     "execution_count": 25,
     "metadata": {},
     "output_type": "execute_result"
    }
   ],
   "source": [
    "docu_vect(df['review'].values[0])"
   ]
  },
  {
   "cell_type": "code",
   "execution_count": 26,
   "id": "2c5c0e45",
   "metadata": {},
   "outputs": [],
   "source": [
    "X = []\n",
    "for doc in df['review'].values:\n",
    "    X.append(docu_vect(doc))\n"
   ]
  },
  {
   "cell_type": "code",
   "execution_count": 27,
   "id": "647f7cb5",
   "metadata": {},
   "outputs": [],
   "source": [
    "X = np.array(X)"
   ]
  },
  {
   "cell_type": "code",
   "execution_count": 28,
   "id": "bba70050",
   "metadata": {},
   "outputs": [
    {
     "data": {
      "text/plain": [
       "array([ 8.55878461e-03,  3.29965383e-01,  2.36380041e-01,  2.65297908e-02,\n",
       "       -2.42161397e-02, -5.19931316e-01,  1.54560909e-01,  8.47177505e-01,\n",
       "       -1.77634329e-01, -1.94160506e-01, -2.31712267e-01, -5.51622450e-01,\n",
       "       -4.01041061e-02,  2.94958830e-01,  2.00096101e-01, -2.62357533e-01,\n",
       "        1.43729225e-01, -5.64755976e-01, -8.65969434e-02, -6.58496141e-01,\n",
       "        1.24134673e-02,  1.17779568e-01,  2.07935557e-01, -2.15857640e-01,\n",
       "       -1.76015779e-01, -1.23499222e-01, -1.25266090e-01, -2.24123210e-01,\n",
       "       -3.62915248e-01, -3.75582539e-02,  4.05332297e-01,  8.01547337e-03,\n",
       "       -8.73840898e-02, -1.75893277e-01, -4.28652495e-01,  3.77929032e-01,\n",
       "        4.64147069e-02, -3.03809077e-01, -1.29490361e-01, -7.36969709e-01,\n",
       "        1.45108566e-01, -2.24514738e-01, -1.78421199e-01,  1.64173450e-02,\n",
       "        4.31663066e-01, -1.44257203e-01, -4.81858581e-01, -2.27978036e-01,\n",
       "        8.16337913e-02,  3.29999477e-01,  1.44496873e-01, -3.15818191e-01,\n",
       "       -3.56140465e-01, -1.75174981e-01, -3.94358009e-01,  7.71805495e-02,\n",
       "        3.85560572e-01,  1.93814322e-01, -2.91418463e-01,  6.73718899e-02,\n",
       "       -5.40329069e-02,  1.34535283e-01, -2.21807897e-01, -1.36909513e-02,\n",
       "       -3.79454702e-01,  4.23178852e-01, -1.61287971e-02,  7.89603963e-02,\n",
       "       -5.62103748e-01,  3.27414840e-01, -1.21409170e-01,  2.17015386e-01,\n",
       "        3.84825885e-01, -2.99685895e-02,  4.51830834e-01,  1.81513298e-02,\n",
       "        1.69099063e-01, -2.29219243e-01, -3.39045256e-01,  1.14056714e-01,\n",
       "       -2.69719392e-01, -1.23382863e-02, -4.79155481e-01,  5.06524265e-01,\n",
       "       -7.54571036e-02, -1.95486844e-01,  8.78414959e-02,  2.40503624e-01,\n",
       "        3.22861701e-01,  1.68759674e-01,  3.11569452e-01,  1.25043362e-01,\n",
       "       -1.12437354e-02,  1.11799404e-01,  5.89988470e-01,  1.04781918e-01,\n",
       "        3.24361145e-01, -3.87546450e-01,  2.46663883e-01, -1.79710099e-04],\n",
       "      dtype=float32)"
      ]
     },
     "execution_count": 28,
     "metadata": {},
     "output_type": "execute_result"
    }
   ],
   "source": [
    "X[0]"
   ]
  },
  {
   "cell_type": "code",
   "execution_count": 29,
   "id": "b853ee3c",
   "metadata": {},
   "outputs": [],
   "source": [
    "from sklearn.preprocessing import LabelEncoder\n",
    "encoder = LabelEncoder()\n",
    "\n",
    "y = encoder.fit_transform(df['sentiment'])"
   ]
  },
  {
   "cell_type": "code",
   "execution_count": 31,
   "id": "eb246cba",
   "metadata": {},
   "outputs": [],
   "source": [
    "\n",
    "from sklearn.model_selection import train_test_split\n",
    "X_train,X_test,y_train,y_test = train_test_split(X,y,test_size=0.2,random_state=1)\n"
   ]
  },
  {
   "cell_type": "code",
   "execution_count": 32,
   "id": "fbbf3fc8",
   "metadata": {},
   "outputs": [],
   "source": [
    "from sklearn.ensemble import RandomForestClassifier\n",
    "from sklearn.metrics import accuracy_score\n"
   ]
  },
  {
   "cell_type": "code",
   "execution_count": 33,
   "id": "e10cafee",
   "metadata": {},
   "outputs": [
    {
     "data": {
      "text/plain": [
       "0.7761642463695543"
      ]
     },
     "execution_count": 33,
     "metadata": {},
     "output_type": "execute_result"
    }
   ],
   "source": [
    "rf = RandomForestClassifier()\n",
    "rf.fit(X_train,y_train)\n",
    "y_pred = rf.predict(X_test)\n",
    "accuracy_score(y_test,y_pred)"
   ]
  },
  {
   "cell_type": "code",
   "execution_count": null,
   "id": "d6b08e8f",
   "metadata": {},
   "outputs": [],
   "source": []
  }
 ],
 "metadata": {
  "kernelspec": {
   "display_name": "Python (myenv)",
   "language": "python",
   "name": "myenv"
  },
  "language_info": {
   "codemirror_mode": {
    "name": "ipython",
    "version": 3
   },
   "file_extension": ".py",
   "mimetype": "text/x-python",
   "name": "python",
   "nbconvert_exporter": "python",
   "pygments_lexer": "ipython3",
   "version": "3.12.9"
  }
 },
 "nbformat": 4,
 "nbformat_minor": 5
}
